{
 "cells": [
  {
   "cell_type": "code",
   "execution_count": 48,
   "id": "131c7253",
   "metadata": {},
   "outputs": [],
   "source": [
    "from utils.logging import logger\n",
    "import pandas as pd\n",
    "import numpy as np\n",
    "import mlflow\n",
    "from sklearn.cluster import KMeans\n",
    "from sklearn.pipeline import Pipeline\n",
    "from sklearn.metrics import silhouette_score\n",
    "import cloudpickle\n",
    "\n",
    "from sklearn.metrics import silhouette_score\n",
    "import warnings\n",
    "import time"
   ]
  },
  {
   "cell_type": "code",
   "execution_count": 49,
   "id": "4a378c69",
   "metadata": {},
   "outputs": [],
   "source": [
    "# RANDOM_SEED\n",
    "RANDOM_SEED = 42\n",
    "\n",
    "# CLUSTER\n",
    "CLUSTER_MIN = 5\n",
    "CLUSTER_MAX = 8\n",
    "CLUSTER_STEP = 1\n",
    "\n",
    "LOG_ONLY_BEST=True\n",
    "\n",
    "# data\n",
    "DATA_PATH = './data/yelp_labelled.txt'\n",
    "\n",
    "# sentence transformer\n",
    "# choose one from https://www.sbert.net/docs/pretrained_models.html\n",
    "MODEL_NAME = 'multi-qa-MiniLM-L6-cos-v1'\n",
    "\n",
    "# Eval Metrics\n",
    "EVAL_METRICS = ['silhouette_score']"
   ]
  },
  {
   "cell_type": "code",
   "execution_count": 50,
   "id": "9b1883ea",
   "metadata": {},
   "outputs": [
    {
     "name": "stderr",
     "output_type": "stream",
     "text": [
      "Loading file {DATA_PATH}...\n",
      "Load complete: 1000 rows and 2 columns.\n"
     ]
    }
   ],
   "source": [
    "# load data\n",
    "logger.info('Loading file {DATA_PATH}...')\n",
    "df = pd.read_csv(DATA_PATH, header=None,\n",
    "                 sep='\\t', names=['sentence', 'label'])\n",
    "logger.info(f'Load complete: {df.shape[0]} rows and {df.shape[1]} columns.')"
   ]
  },
  {
   "cell_type": "code",
   "execution_count": 51,
   "id": "f25b04be",
   "metadata": {},
   "outputs": [
    {
     "name": "stderr",
     "output_type": "stream",
     "text": [
      "Loading sentence transformer multi-qa-MiniLM-L6-cos-v1...\n",
      "done.\n"
     ]
    }
   ],
   "source": [
    "from sentcluster import BertEmbedder\n",
    "logger.info(f'Loading sentence transformer {MODEL_NAME}...')\n",
    "embedder = BertEmbedder(MODEL_NAME)\n",
    "logger.info(f'done.')\n"
   ]
  },
  {
   "attachments": {},
   "cell_type": "markdown",
   "id": "53aa7e19",
   "metadata": {},
   "source": [
    "# Config conda env"
   ]
  },
  {
   "cell_type": "code",
   "execution_count": 52,
   "id": "0d03ee35",
   "metadata": {},
   "outputs": [],
   "source": [
    "from sys import version_info\n",
    "PYTHON_VERSION = \"{major}.{minor}.{micro}\".format(\n",
    "    major=version_info.major, minor=version_info.minor, micro=version_info.micro\n",
    ")\n",
    "\n",
    "conda_env = {\n",
    "    \"channels\": [\"defaults\", \"conda-forge\"],\n",
    "    \"dependencies\": [\"python={}\".format(PYTHON_VERSION), \"pip\"],\n",
    "    \"pip\": [\n",
    "        \"mlflow\",\n",
    "        \"cloudpickle=={}\".format(cloudpickle.__version__),\n",
    "        \"scikit-learn==1.2.2\",\n",
    "        \"sentence-transformers==2.2.2\"\n",
    "    ],\n",
    "    \"name\": \"mlflow-env\",\n",
    "}\n"
   ]
  },
  {
   "attachments": {},
   "cell_type": "markdown",
   "id": "f2a8f706",
   "metadata": {},
   "source": [
    "# Training Step"
   ]
  },
  {
   "cell_type": "code",
   "execution_count": 53,
   "id": "be44afaa",
   "metadata": {},
   "outputs": [
    {
     "name": "stderr",
     "output_type": "stream",
     "text": [
      "Batches: 100%|██████████| 32/32 [00:00<00:00, 73.10it/s]\n",
      "Batches: 100%|██████████| 32/32 [00:00<00:00, 72.82it/s]\n",
      "Batches: 100%|██████████| 32/32 [00:00<00:00, 71.21it/s]\n",
      "n_cluster=5, silhouette_score=0.04953\n",
      "Batches: 100%|██████████| 32/32 [00:00<00:00, 73.75it/s]\n",
      "Batches: 100%|██████████| 32/32 [00:00<00:00, 79.81it/s]\n",
      "Batches: 100%|██████████| 32/32 [00:00<00:00, 69.25it/s]\n",
      "n_cluster=6, silhouette_score=0.04882\n",
      "Batches: 100%|██████████| 32/32 [00:00<00:00, 77.84it/s]\n",
      "Batches: 100%|██████████| 32/32 [00:00<00:00, 76.29it/s]\n",
      "Batches: 100%|██████████| 32/32 [00:00<00:00, 70.32it/s]\n",
      "n_cluster=7, silhouette_score=0.04781\n"
     ]
    }
   ],
   "source": [
    "\n",
    "\n",
    "np.random.seed(RANDOM_SEED)\n",
    "\n",
    "# Start an MLflow run; the \"with\" keyword ensures we'll close the run even if this cell crashes\n",
    "pipe = Pipeline([('embedder',embedder),('clusterer',KMeans())])\n",
    "\n",
    "best_metric = np.Inf\n",
    "best_labels = None\n",
    "\n",
    "for current_n in range(CLUSTER_MIN, CLUSTER_MAX, CLUSTER_STEP):\n",
    "    with mlflow.start_run():\n",
    "        warnings.filterwarnings(\"ignore\")\n",
    "        mlflow.log_param(\"n_clusters\", current_n)\n",
    "        model_start_time = time.strftime(\"%Y%m%d-%H%M%S\")\n",
    "        pipe.set_params(**{'clusterer__n_clusters':current_n})\n",
    "        predicted_2d = pipe.fit(df.sentence)\n",
    "        predicted_labels = pipe.predict(df.sentence)\n",
    "\n",
    "        current_metric = silhouette_score(pipe['embedder'].transform(df.sentence),predicted_labels)\n",
    "        \n",
    "        # Print out Silhouette Score and log it in mlflow\n",
    "        logger.info(f\"n_cluster={current_n}, silhouette_score={current_metric:.5f}\")\n",
    "\n",
    "        if LOG_ONLY_BEST and current_metric < best_metric:\n",
    "            best_metric = current_metric \n",
    "            mlflow.sklearn.log_model(pipe, f\"{MODEL_NAME}_KMeans_(n={current_n})\",conda_env=conda_env)\n",
    "            mlflow.log_metric('silhouette_score', best_metric)\n",
    "            best_labels = predicted_labels\n",
    "        else:\n",
    "            mlflow.sklearn.log_model(pipe, f\"{MODEL_NAME}_KMeans_(n={current_n})\",conda_env=conda_env)\n",
    "            mlflow.log_metric('silhouette_score', current_metric)\n",
    "            best_labels = predicted_labels\n"
   ]
  },
  {
   "attachments": {},
   "cell_type": "markdown",
   "id": "61243a0f",
   "metadata": {},
   "source": [
    "# Generate scored dataset with best model"
   ]
  },
  {
   "cell_type": "code",
   "execution_count": 54,
   "id": "bb7d74dc",
   "metadata": {},
   "outputs": [],
   "source": [
    "results_df = pd.DataFrame( {'sentence':df.sentence,'label':best_labels})"
   ]
  },
  {
   "cell_type": "code",
   "execution_count": 55,
   "id": "080126a2",
   "metadata": {},
   "outputs": [
    {
     "name": "stderr",
     "output_type": "stream",
     "text": [
      "------------------------------------\n",
      "samples from cluster=0\n",
      "------------------------------------\n",
      "Crust is not good.\n",
      "Not tasty and the texture was just nasty.\n",
      "Honeslty it didn't taste THAT fresh.)\n",
      "The potatoes were like rubber and you could tell they had been made up ahead of time being kept under a warmer.\n",
      "The fries were great too.\n",
      "------------------------------------\n",
      "samples from cluster=1\n",
      "------------------------------------\n",
      "The cashier had no care what so ever on what I had to say it still ended up being wayyy overpriced.\n",
      "I was disgusted because I was pretty sure that was human hair.\n",
      "Waitress was a little slow in service.\n",
      "- They never brought a salad we asked for.\n",
      "Took an hour to get our food only 4 tables in restaurant my food was Luke warm, Our sever was running around like he was totally overwhelmed.\n",
      "------------------------------------\n",
      "samples from cluster=2\n",
      "------------------------------------\n",
      "The selection on the menu was great and so were the prices.\n",
      "The food, amazing.\n",
      "Also there are combos like a burger, fries, and beer for 23 which is a decent deal.\n",
      "seems like a good quick place to grab a bite of some familiar pub food, but do yourself a favor and look elsewhere.\n",
      "The only redeeming quality of the restaurant was that it was very inexpensive.\n",
      "------------------------------------\n",
      "samples from cluster=3\n",
      "------------------------------------\n",
      "Wow... Loved this place.\n",
      "This place is not worth your time, let alone Vegas.\n",
      "I could care less... The interior is just beautiful.\n",
      "This hole in the wall has great Mexican street tacos, and friendly staff.\n",
      "I found this place by accident and I could not be happier.\n",
      "------------------------------------\n",
      "samples from cluster=4\n",
      "------------------------------------\n",
      "Would not go back.\n",
      "We'd definitely go back here again.\n",
      "We'll never go again.\n",
      "Will be back again!\n",
      "Will go back next trip out.\n",
      "------------------------------------\n",
      "samples from cluster=5\n",
      "------------------------------------\n",
      "Stopped by during the late May bank holiday off Rick Steve recommendation and loved it.\n",
      "Now I am getting angry and I want my damn pho.\n",
      "A great touch.\n",
      "I was shocked because no signs indicate cash only.\n",
      "Highly recommended.\n",
      "------------------------------------\n",
      "samples from cluster=6\n",
      "------------------------------------\n",
      "Service was very prompt.\n",
      "Service is also cute.\n",
      "Service sucks.\n",
      "There is not a deal good enough that would drag me into that establishment again.\n",
      "On a positive note, our server was very attentive and provided great service.\n"
     ]
    }
   ],
   "source": [
    "for r in sorted(results_df.label.unique()):\n",
    "    logger.info(f'------------------------------------')\n",
    "    logger.info(f'samples from cluster={r}')\n",
    "    logger.info(f'------------------------------------')\n",
    "    for index,row in results_df[results_df.label==r].head(5).iterrows():\n",
    "        logger.info(row['sentence'])"
   ]
  },
  {
   "cell_type": "code",
   "execution_count": null,
   "id": "cc06523d",
   "metadata": {},
   "outputs": [],
   "source": []
  }
 ],
 "metadata": {
  "kernelspec": {
   "display_name": "kaggle_1",
   "language": "python",
   "name": "kaggle_1"
  },
  "language_info": {
   "codemirror_mode": {
    "name": "ipython",
    "version": 3
   },
   "file_extension": ".py",
   "mimetype": "text/x-python",
   "name": "python",
   "nbconvert_exporter": "python",
   "pygments_lexer": "ipython3",
   "version": "3.10.10"
  }
 },
 "nbformat": 4,
 "nbformat_minor": 5
}
